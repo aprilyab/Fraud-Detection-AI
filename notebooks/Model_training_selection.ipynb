{
  "nbformat": 4,
  "nbformat_minor": 0,
  "metadata": {
    "colab": {
      "provenance": []
    },
    "kernelspec": {
      "name": "python3",
      "display_name": "Python 3"
    },
    "language_info": {
      "name": "python"
    }
  },
  "cells": [
    {
      "cell_type": "markdown",
      "source": [
        "## Setup and Imports"
      ],
      "metadata": {
        "id": "v7tESDqwaMlg"
      }
    },
    {
      "cell_type": "code",
      "source": [
        "# Basic libraries\n",
        "import pandas as pd\n",
        "import numpy as np\n",
        "\n",
        "# For train-test split\n",
        "from sklearn.model_selection import train_test_split\n",
        "\n",
        "# Models\n",
        "from sklearn.linear_model import LogisticRegression\n",
        "from sklearn.ensemble import RandomForestClassifier\n",
        "\n",
        "# Evaluation metrics\n",
        "from sklearn.metrics import classification_report, confusion_matrix, precision_recall_curve, auc, f1_score, roc_auc_score,average_precision_score\n",
        "\n",
        "# Optional: For plots\n",
        "import matplotlib.pyplot as plt\n",
        "import seaborn as sns\n",
        "\n",
        "from sklearn.compose import ColumnTransformer\n",
        "from sklearn.preprocessing import OneHotEncoder\n",
        "from sklearn.pipeline import Pipeline\n",
        "from sklearn.impute import SimpleImputer\n",
        "\n",
        "\n"
      ],
      "metadata": {
        "id": "M3oG6p-XaXye"
      },
      "execution_count": 67,
      "outputs": []
    },
    {
      "cell_type": "markdown",
      "source": [
        "## Load the Preprocessed Data"
      ],
      "metadata": {
        "id": "c4lkozKgaakt"
      }
    },
    {
      "cell_type": "code",
      "source": [
        "# Load both datasets from Google Drive\n",
        "fd_df = pd.read_csv(\"/content/drive/MyDrive/fraud_IP_data_preprocessed (1).csv\")\n",
        "cc_df = pd.read_csv(\"/content/drive/MyDrive/credit_data_preprocessed (1).csv\")\n",
        "\n"
      ],
      "metadata": {
        "id": "EUNA7JDTaeq6"
      },
      "execution_count": 50,
      "outputs": []
    },
    {
      "cell_type": "code",
      "source": [
        "fd_df"
      ],
      "metadata": {
        "id": "x_2uOwhJofgM",
        "outputId": "15c79946-df55-412b-ada1-fd804cddf8d3",
        "colab": {
          "base_uri": "https://localhost:8080/",
          "height": 424
        }
      },
      "execution_count": 51,
      "outputs": [
        {
          "output_type": "execute_result",
          "data": {
            "text/plain": [
              "        user_id          signup_time        purchase_time  purchase_value  \\\n",
              "0           100  2015-05-10 05:05:40  2015-07-25 13:41:51              27   \n",
              "1         10000  2015-08-15 22:47:50  2015-10-24 14:59:37              38   \n",
              "2        100000  2015-05-06 01:04:25  2015-08-30 07:46:16              53   \n",
              "3        100002  2015-08-01 00:50:38  2015-11-14 00:44:48              35   \n",
              "4        100003  2015-01-27 05:43:43  2015-02-04 06:30:05              16   \n",
              "...         ...                  ...                  ...             ...   \n",
              "151107     9998  2015-01-15 03:49:20  2015-03-11 13:57:17              48   \n",
              "151108    99985  2015-06-14 18:53:12  2015-07-03 14:08:37              41   \n",
              "151109    99990  2015-01-07 19:38:51  2015-01-23 06:50:03              30   \n",
              "151110    99996  2015-07-18 16:01:10  2015-10-20 23:54:29              32   \n",
              "151111    99999  2015-05-06 13:02:51  2015-08-21 23:22:21              65   \n",
              "\n",
              "            device_id  source  browser sex  age  ip_address  class  \\\n",
              "0       MDMLOWOGGANVG  Direct   Chrome   M   36  2776528971      1   \n",
              "1       JWYDAKVEKXUQJ     SEO       IE   M   38    51107169      0   \n",
              "2       TGOFJTSWBNTVD     Ads       IE   M   47  2788083697      0   \n",
              "3       KAPPLULTWGHCC  Direct       IE   M   34  1359403987      0   \n",
              "4       YQYYUYGQZBVZI     SEO       IE   M   39  1128757802      0   \n",
              "...               ...     ...      ...  ..  ...         ...    ...   \n",
              "151107  ZZTJBZKBYQCCC  Direct   Chrome   F   23  1707364590      0   \n",
              "151108  HIOOZLEHYODQN  Direct       IE   M   34  4198048750      0   \n",
              "151109  TWLZZGNWVLFCS     Ads   Safari   F   32   107090192      0   \n",
              "151110  LKCXIMENZFRGZ     Ads  FireFox   M   30   914609500      0   \n",
              "151111  BMHNRPASPHNMP  Direct  FireFox   F   22  2328156647      0   \n",
              "\n",
              "               country  transaction_frequency  transaction_velocity  \\\n",
              "0        United States                      1                   NaN   \n",
              "1        United States                      1                   NaN   \n",
              "2        United States                      1                   NaN   \n",
              "3       United Kingdom                      1                   NaN   \n",
              "4               Canada                      1                   NaN   \n",
              "...                ...                    ...                   ...   \n",
              "151107           China                      1                   NaN   \n",
              "151108             NaN                      1                   NaN   \n",
              "151109   United States                      1                   NaN   \n",
              "151110   United States                      1                   NaN   \n",
              "151111   United States                      1                   NaN   \n",
              "\n",
              "        hour_of_day  day_of_week  time_since_signup  \n",
              "0                13            5        1832.603056  \n",
              "1                14            5        1672.196389  \n",
              "2                 7            6        2790.697500  \n",
              "3                 0            5        2519.902778  \n",
              "4                 6            2         192.772778  \n",
              "...             ...          ...                ...  \n",
              "151107           13            2        1330.132500  \n",
              "151108           14            4         451.256944  \n",
              "151109            6            4         371.186667  \n",
              "151110           23            1        2263.888611  \n",
              "151111           23            4        2578.325000  \n",
              "\n",
              "[151112 rows x 17 columns]"
            ],
            "text/html": [
              "\n",
              "  <div id=\"df-0dd35f8f-4c4c-4b30-bfc1-deae980d711b\" class=\"colab-df-container\">\n",
              "    <div>\n",
              "<style scoped>\n",
              "    .dataframe tbody tr th:only-of-type {\n",
              "        vertical-align: middle;\n",
              "    }\n",
              "\n",
              "    .dataframe tbody tr th {\n",
              "        vertical-align: top;\n",
              "    }\n",
              "\n",
              "    .dataframe thead th {\n",
              "        text-align: right;\n",
              "    }\n",
              "</style>\n",
              "<table border=\"1\" class=\"dataframe\">\n",
              "  <thead>\n",
              "    <tr style=\"text-align: right;\">\n",
              "      <th></th>\n",
              "      <th>user_id</th>\n",
              "      <th>signup_time</th>\n",
              "      <th>purchase_time</th>\n",
              "      <th>purchase_value</th>\n",
              "      <th>device_id</th>\n",
              "      <th>source</th>\n",
              "      <th>browser</th>\n",
              "      <th>sex</th>\n",
              "      <th>age</th>\n",
              "      <th>ip_address</th>\n",
              "      <th>class</th>\n",
              "      <th>country</th>\n",
              "      <th>transaction_frequency</th>\n",
              "      <th>transaction_velocity</th>\n",
              "      <th>hour_of_day</th>\n",
              "      <th>day_of_week</th>\n",
              "      <th>time_since_signup</th>\n",
              "    </tr>\n",
              "  </thead>\n",
              "  <tbody>\n",
              "    <tr>\n",
              "      <th>0</th>\n",
              "      <td>100</td>\n",
              "      <td>2015-05-10 05:05:40</td>\n",
              "      <td>2015-07-25 13:41:51</td>\n",
              "      <td>27</td>\n",
              "      <td>MDMLOWOGGANVG</td>\n",
              "      <td>Direct</td>\n",
              "      <td>Chrome</td>\n",
              "      <td>M</td>\n",
              "      <td>36</td>\n",
              "      <td>2776528971</td>\n",
              "      <td>1</td>\n",
              "      <td>United States</td>\n",
              "      <td>1</td>\n",
              "      <td>NaN</td>\n",
              "      <td>13</td>\n",
              "      <td>5</td>\n",
              "      <td>1832.603056</td>\n",
              "    </tr>\n",
              "    <tr>\n",
              "      <th>1</th>\n",
              "      <td>10000</td>\n",
              "      <td>2015-08-15 22:47:50</td>\n",
              "      <td>2015-10-24 14:59:37</td>\n",
              "      <td>38</td>\n",
              "      <td>JWYDAKVEKXUQJ</td>\n",
              "      <td>SEO</td>\n",
              "      <td>IE</td>\n",
              "      <td>M</td>\n",
              "      <td>38</td>\n",
              "      <td>51107169</td>\n",
              "      <td>0</td>\n",
              "      <td>United States</td>\n",
              "      <td>1</td>\n",
              "      <td>NaN</td>\n",
              "      <td>14</td>\n",
              "      <td>5</td>\n",
              "      <td>1672.196389</td>\n",
              "    </tr>\n",
              "    <tr>\n",
              "      <th>2</th>\n",
              "      <td>100000</td>\n",
              "      <td>2015-05-06 01:04:25</td>\n",
              "      <td>2015-08-30 07:46:16</td>\n",
              "      <td>53</td>\n",
              "      <td>TGOFJTSWBNTVD</td>\n",
              "      <td>Ads</td>\n",
              "      <td>IE</td>\n",
              "      <td>M</td>\n",
              "      <td>47</td>\n",
              "      <td>2788083697</td>\n",
              "      <td>0</td>\n",
              "      <td>United States</td>\n",
              "      <td>1</td>\n",
              "      <td>NaN</td>\n",
              "      <td>7</td>\n",
              "      <td>6</td>\n",
              "      <td>2790.697500</td>\n",
              "    </tr>\n",
              "    <tr>\n",
              "      <th>3</th>\n",
              "      <td>100002</td>\n",
              "      <td>2015-08-01 00:50:38</td>\n",
              "      <td>2015-11-14 00:44:48</td>\n",
              "      <td>35</td>\n",
              "      <td>KAPPLULTWGHCC</td>\n",
              "      <td>Direct</td>\n",
              "      <td>IE</td>\n",
              "      <td>M</td>\n",
              "      <td>34</td>\n",
              "      <td>1359403987</td>\n",
              "      <td>0</td>\n",
              "      <td>United Kingdom</td>\n",
              "      <td>1</td>\n",
              "      <td>NaN</td>\n",
              "      <td>0</td>\n",
              "      <td>5</td>\n",
              "      <td>2519.902778</td>\n",
              "    </tr>\n",
              "    <tr>\n",
              "      <th>4</th>\n",
              "      <td>100003</td>\n",
              "      <td>2015-01-27 05:43:43</td>\n",
              "      <td>2015-02-04 06:30:05</td>\n",
              "      <td>16</td>\n",
              "      <td>YQYYUYGQZBVZI</td>\n",
              "      <td>SEO</td>\n",
              "      <td>IE</td>\n",
              "      <td>M</td>\n",
              "      <td>39</td>\n",
              "      <td>1128757802</td>\n",
              "      <td>0</td>\n",
              "      <td>Canada</td>\n",
              "      <td>1</td>\n",
              "      <td>NaN</td>\n",
              "      <td>6</td>\n",
              "      <td>2</td>\n",
              "      <td>192.772778</td>\n",
              "    </tr>\n",
              "    <tr>\n",
              "      <th>...</th>\n",
              "      <td>...</td>\n",
              "      <td>...</td>\n",
              "      <td>...</td>\n",
              "      <td>...</td>\n",
              "      <td>...</td>\n",
              "      <td>...</td>\n",
              "      <td>...</td>\n",
              "      <td>...</td>\n",
              "      <td>...</td>\n",
              "      <td>...</td>\n",
              "      <td>...</td>\n",
              "      <td>...</td>\n",
              "      <td>...</td>\n",
              "      <td>...</td>\n",
              "      <td>...</td>\n",
              "      <td>...</td>\n",
              "      <td>...</td>\n",
              "    </tr>\n",
              "    <tr>\n",
              "      <th>151107</th>\n",
              "      <td>9998</td>\n",
              "      <td>2015-01-15 03:49:20</td>\n",
              "      <td>2015-03-11 13:57:17</td>\n",
              "      <td>48</td>\n",
              "      <td>ZZTJBZKBYQCCC</td>\n",
              "      <td>Direct</td>\n",
              "      <td>Chrome</td>\n",
              "      <td>F</td>\n",
              "      <td>23</td>\n",
              "      <td>1707364590</td>\n",
              "      <td>0</td>\n",
              "      <td>China</td>\n",
              "      <td>1</td>\n",
              "      <td>NaN</td>\n",
              "      <td>13</td>\n",
              "      <td>2</td>\n",
              "      <td>1330.132500</td>\n",
              "    </tr>\n",
              "    <tr>\n",
              "      <th>151108</th>\n",
              "      <td>99985</td>\n",
              "      <td>2015-06-14 18:53:12</td>\n",
              "      <td>2015-07-03 14:08:37</td>\n",
              "      <td>41</td>\n",
              "      <td>HIOOZLEHYODQN</td>\n",
              "      <td>Direct</td>\n",
              "      <td>IE</td>\n",
              "      <td>M</td>\n",
              "      <td>34</td>\n",
              "      <td>4198048750</td>\n",
              "      <td>0</td>\n",
              "      <td>NaN</td>\n",
              "      <td>1</td>\n",
              "      <td>NaN</td>\n",
              "      <td>14</td>\n",
              "      <td>4</td>\n",
              "      <td>451.256944</td>\n",
              "    </tr>\n",
              "    <tr>\n",
              "      <th>151109</th>\n",
              "      <td>99990</td>\n",
              "      <td>2015-01-07 19:38:51</td>\n",
              "      <td>2015-01-23 06:50:03</td>\n",
              "      <td>30</td>\n",
              "      <td>TWLZZGNWVLFCS</td>\n",
              "      <td>Ads</td>\n",
              "      <td>Safari</td>\n",
              "      <td>F</td>\n",
              "      <td>32</td>\n",
              "      <td>107090192</td>\n",
              "      <td>0</td>\n",
              "      <td>United States</td>\n",
              "      <td>1</td>\n",
              "      <td>NaN</td>\n",
              "      <td>6</td>\n",
              "      <td>4</td>\n",
              "      <td>371.186667</td>\n",
              "    </tr>\n",
              "    <tr>\n",
              "      <th>151110</th>\n",
              "      <td>99996</td>\n",
              "      <td>2015-07-18 16:01:10</td>\n",
              "      <td>2015-10-20 23:54:29</td>\n",
              "      <td>32</td>\n",
              "      <td>LKCXIMENZFRGZ</td>\n",
              "      <td>Ads</td>\n",
              "      <td>FireFox</td>\n",
              "      <td>M</td>\n",
              "      <td>30</td>\n",
              "      <td>914609500</td>\n",
              "      <td>0</td>\n",
              "      <td>United States</td>\n",
              "      <td>1</td>\n",
              "      <td>NaN</td>\n",
              "      <td>23</td>\n",
              "      <td>1</td>\n",
              "      <td>2263.888611</td>\n",
              "    </tr>\n",
              "    <tr>\n",
              "      <th>151111</th>\n",
              "      <td>99999</td>\n",
              "      <td>2015-05-06 13:02:51</td>\n",
              "      <td>2015-08-21 23:22:21</td>\n",
              "      <td>65</td>\n",
              "      <td>BMHNRPASPHNMP</td>\n",
              "      <td>Direct</td>\n",
              "      <td>FireFox</td>\n",
              "      <td>F</td>\n",
              "      <td>22</td>\n",
              "      <td>2328156647</td>\n",
              "      <td>0</td>\n",
              "      <td>United States</td>\n",
              "      <td>1</td>\n",
              "      <td>NaN</td>\n",
              "      <td>23</td>\n",
              "      <td>4</td>\n",
              "      <td>2578.325000</td>\n",
              "    </tr>\n",
              "  </tbody>\n",
              "</table>\n",
              "<p>151112 rows × 17 columns</p>\n",
              "</div>\n",
              "    <div class=\"colab-df-buttons\">\n",
              "\n",
              "  <div class=\"colab-df-container\">\n",
              "    <button class=\"colab-df-convert\" onclick=\"convertToInteractive('df-0dd35f8f-4c4c-4b30-bfc1-deae980d711b')\"\n",
              "            title=\"Convert this dataframe to an interactive table.\"\n",
              "            style=\"display:none;\">\n",
              "\n",
              "  <svg xmlns=\"http://www.w3.org/2000/svg\" height=\"24px\" viewBox=\"0 -960 960 960\">\n",
              "    <path d=\"M120-120v-720h720v720H120Zm60-500h600v-160H180v160Zm220 220h160v-160H400v160Zm0 220h160v-160H400v160ZM180-400h160v-160H180v160Zm440 0h160v-160H620v160ZM180-180h160v-160H180v160Zm440 0h160v-160H620v160Z\"/>\n",
              "  </svg>\n",
              "    </button>\n",
              "\n",
              "  <style>\n",
              "    .colab-df-container {\n",
              "      display:flex;\n",
              "      gap: 12px;\n",
              "    }\n",
              "\n",
              "    .colab-df-convert {\n",
              "      background-color: #E8F0FE;\n",
              "      border: none;\n",
              "      border-radius: 50%;\n",
              "      cursor: pointer;\n",
              "      display: none;\n",
              "      fill: #1967D2;\n",
              "      height: 32px;\n",
              "      padding: 0 0 0 0;\n",
              "      width: 32px;\n",
              "    }\n",
              "\n",
              "    .colab-df-convert:hover {\n",
              "      background-color: #E2EBFA;\n",
              "      box-shadow: 0px 1px 2px rgba(60, 64, 67, 0.3), 0px 1px 3px 1px rgba(60, 64, 67, 0.15);\n",
              "      fill: #174EA6;\n",
              "    }\n",
              "\n",
              "    .colab-df-buttons div {\n",
              "      margin-bottom: 4px;\n",
              "    }\n",
              "\n",
              "    [theme=dark] .colab-df-convert {\n",
              "      background-color: #3B4455;\n",
              "      fill: #D2E3FC;\n",
              "    }\n",
              "\n",
              "    [theme=dark] .colab-df-convert:hover {\n",
              "      background-color: #434B5C;\n",
              "      box-shadow: 0px 1px 3px 1px rgba(0, 0, 0, 0.15);\n",
              "      filter: drop-shadow(0px 1px 2px rgba(0, 0, 0, 0.3));\n",
              "      fill: #FFFFFF;\n",
              "    }\n",
              "  </style>\n",
              "\n",
              "    <script>\n",
              "      const buttonEl =\n",
              "        document.querySelector('#df-0dd35f8f-4c4c-4b30-bfc1-deae980d711b button.colab-df-convert');\n",
              "      buttonEl.style.display =\n",
              "        google.colab.kernel.accessAllowed ? 'block' : 'none';\n",
              "\n",
              "      async function convertToInteractive(key) {\n",
              "        const element = document.querySelector('#df-0dd35f8f-4c4c-4b30-bfc1-deae980d711b');\n",
              "        const dataTable =\n",
              "          await google.colab.kernel.invokeFunction('convertToInteractive',\n",
              "                                                    [key], {});\n",
              "        if (!dataTable) return;\n",
              "\n",
              "        const docLinkHtml = 'Like what you see? Visit the ' +\n",
              "          '<a target=\"_blank\" href=https://colab.research.google.com/notebooks/data_table.ipynb>data table notebook</a>'\n",
              "          + ' to learn more about interactive tables.';\n",
              "        element.innerHTML = '';\n",
              "        dataTable['output_type'] = 'display_data';\n",
              "        await google.colab.output.renderOutput(dataTable, element);\n",
              "        const docLink = document.createElement('div');\n",
              "        docLink.innerHTML = docLinkHtml;\n",
              "        element.appendChild(docLink);\n",
              "      }\n",
              "    </script>\n",
              "  </div>\n",
              "\n",
              "\n",
              "    <div id=\"df-b0e37aee-2f72-4110-b30f-84ef64ba8551\">\n",
              "      <button class=\"colab-df-quickchart\" onclick=\"quickchart('df-b0e37aee-2f72-4110-b30f-84ef64ba8551')\"\n",
              "                title=\"Suggest charts\"\n",
              "                style=\"display:none;\">\n",
              "\n",
              "<svg xmlns=\"http://www.w3.org/2000/svg\" height=\"24px\"viewBox=\"0 0 24 24\"\n",
              "     width=\"24px\">\n",
              "    <g>\n",
              "        <path d=\"M19 3H5c-1.1 0-2 .9-2 2v14c0 1.1.9 2 2 2h14c1.1 0 2-.9 2-2V5c0-1.1-.9-2-2-2zM9 17H7v-7h2v7zm4 0h-2V7h2v10zm4 0h-2v-4h2v4z\"/>\n",
              "    </g>\n",
              "</svg>\n",
              "      </button>\n",
              "\n",
              "<style>\n",
              "  .colab-df-quickchart {\n",
              "      --bg-color: #E8F0FE;\n",
              "      --fill-color: #1967D2;\n",
              "      --hover-bg-color: #E2EBFA;\n",
              "      --hover-fill-color: #174EA6;\n",
              "      --disabled-fill-color: #AAA;\n",
              "      --disabled-bg-color: #DDD;\n",
              "  }\n",
              "\n",
              "  [theme=dark] .colab-df-quickchart {\n",
              "      --bg-color: #3B4455;\n",
              "      --fill-color: #D2E3FC;\n",
              "      --hover-bg-color: #434B5C;\n",
              "      --hover-fill-color: #FFFFFF;\n",
              "      --disabled-bg-color: #3B4455;\n",
              "      --disabled-fill-color: #666;\n",
              "  }\n",
              "\n",
              "  .colab-df-quickchart {\n",
              "    background-color: var(--bg-color);\n",
              "    border: none;\n",
              "    border-radius: 50%;\n",
              "    cursor: pointer;\n",
              "    display: none;\n",
              "    fill: var(--fill-color);\n",
              "    height: 32px;\n",
              "    padding: 0;\n",
              "    width: 32px;\n",
              "  }\n",
              "\n",
              "  .colab-df-quickchart:hover {\n",
              "    background-color: var(--hover-bg-color);\n",
              "    box-shadow: 0 1px 2px rgba(60, 64, 67, 0.3), 0 1px 3px 1px rgba(60, 64, 67, 0.15);\n",
              "    fill: var(--button-hover-fill-color);\n",
              "  }\n",
              "\n",
              "  .colab-df-quickchart-complete:disabled,\n",
              "  .colab-df-quickchart-complete:disabled:hover {\n",
              "    background-color: var(--disabled-bg-color);\n",
              "    fill: var(--disabled-fill-color);\n",
              "    box-shadow: none;\n",
              "  }\n",
              "\n",
              "  .colab-df-spinner {\n",
              "    border: 2px solid var(--fill-color);\n",
              "    border-color: transparent;\n",
              "    border-bottom-color: var(--fill-color);\n",
              "    animation:\n",
              "      spin 1s steps(1) infinite;\n",
              "  }\n",
              "\n",
              "  @keyframes spin {\n",
              "    0% {\n",
              "      border-color: transparent;\n",
              "      border-bottom-color: var(--fill-color);\n",
              "      border-left-color: var(--fill-color);\n",
              "    }\n",
              "    20% {\n",
              "      border-color: transparent;\n",
              "      border-left-color: var(--fill-color);\n",
              "      border-top-color: var(--fill-color);\n",
              "    }\n",
              "    30% {\n",
              "      border-color: transparent;\n",
              "      border-left-color: var(--fill-color);\n",
              "      border-top-color: var(--fill-color);\n",
              "      border-right-color: var(--fill-color);\n",
              "    }\n",
              "    40% {\n",
              "      border-color: transparent;\n",
              "      border-right-color: var(--fill-color);\n",
              "      border-top-color: var(--fill-color);\n",
              "    }\n",
              "    60% {\n",
              "      border-color: transparent;\n",
              "      border-right-color: var(--fill-color);\n",
              "    }\n",
              "    80% {\n",
              "      border-color: transparent;\n",
              "      border-right-color: var(--fill-color);\n",
              "      border-bottom-color: var(--fill-color);\n",
              "    }\n",
              "    90% {\n",
              "      border-color: transparent;\n",
              "      border-bottom-color: var(--fill-color);\n",
              "    }\n",
              "  }\n",
              "</style>\n",
              "\n",
              "      <script>\n",
              "        async function quickchart(key) {\n",
              "          const quickchartButtonEl =\n",
              "            document.querySelector('#' + key + ' button');\n",
              "          quickchartButtonEl.disabled = true;  // To prevent multiple clicks.\n",
              "          quickchartButtonEl.classList.add('colab-df-spinner');\n",
              "          try {\n",
              "            const charts = await google.colab.kernel.invokeFunction(\n",
              "                'suggestCharts', [key], {});\n",
              "          } catch (error) {\n",
              "            console.error('Error during call to suggestCharts:', error);\n",
              "          }\n",
              "          quickchartButtonEl.classList.remove('colab-df-spinner');\n",
              "          quickchartButtonEl.classList.add('colab-df-quickchart-complete');\n",
              "        }\n",
              "        (() => {\n",
              "          let quickchartButtonEl =\n",
              "            document.querySelector('#df-b0e37aee-2f72-4110-b30f-84ef64ba8551 button');\n",
              "          quickchartButtonEl.style.display =\n",
              "            google.colab.kernel.accessAllowed ? 'block' : 'none';\n",
              "        })();\n",
              "      </script>\n",
              "    </div>\n",
              "\n",
              "  <div id=\"id_beb5d9f5-f605-4e22-9610-c4ae7f75a2cf\">\n",
              "    <style>\n",
              "      .colab-df-generate {\n",
              "        background-color: #E8F0FE;\n",
              "        border: none;\n",
              "        border-radius: 50%;\n",
              "        cursor: pointer;\n",
              "        display: none;\n",
              "        fill: #1967D2;\n",
              "        height: 32px;\n",
              "        padding: 0 0 0 0;\n",
              "        width: 32px;\n",
              "      }\n",
              "\n",
              "      .colab-df-generate:hover {\n",
              "        background-color: #E2EBFA;\n",
              "        box-shadow: 0px 1px 2px rgba(60, 64, 67, 0.3), 0px 1px 3px 1px rgba(60, 64, 67, 0.15);\n",
              "        fill: #174EA6;\n",
              "      }\n",
              "\n",
              "      [theme=dark] .colab-df-generate {\n",
              "        background-color: #3B4455;\n",
              "        fill: #D2E3FC;\n",
              "      }\n",
              "\n",
              "      [theme=dark] .colab-df-generate:hover {\n",
              "        background-color: #434B5C;\n",
              "        box-shadow: 0px 1px 3px 1px rgba(0, 0, 0, 0.15);\n",
              "        filter: drop-shadow(0px 1px 2px rgba(0, 0, 0, 0.3));\n",
              "        fill: #FFFFFF;\n",
              "      }\n",
              "    </style>\n",
              "    <button class=\"colab-df-generate\" onclick=\"generateWithVariable('fd_df')\"\n",
              "            title=\"Generate code using this dataframe.\"\n",
              "            style=\"display:none;\">\n",
              "\n",
              "  <svg xmlns=\"http://www.w3.org/2000/svg\" height=\"24px\"viewBox=\"0 0 24 24\"\n",
              "       width=\"24px\">\n",
              "    <path d=\"M7,19H8.4L18.45,9,17,7.55,7,17.6ZM5,21V16.75L18.45,3.32a2,2,0,0,1,2.83,0l1.4,1.43a1.91,1.91,0,0,1,.58,1.4,1.91,1.91,0,0,1-.58,1.4L9.25,21ZM18.45,9,17,7.55Zm-12,3A5.31,5.31,0,0,0,4.9,8.1,5.31,5.31,0,0,0,1,6.5,5.31,5.31,0,0,0,4.9,4.9,5.31,5.31,0,0,0,6.5,1,5.31,5.31,0,0,0,8.1,4.9,5.31,5.31,0,0,0,12,6.5,5.46,5.46,0,0,0,6.5,12Z\"/>\n",
              "  </svg>\n",
              "    </button>\n",
              "    <script>\n",
              "      (() => {\n",
              "      const buttonEl =\n",
              "        document.querySelector('#id_beb5d9f5-f605-4e22-9610-c4ae7f75a2cf button.colab-df-generate');\n",
              "      buttonEl.style.display =\n",
              "        google.colab.kernel.accessAllowed ? 'block' : 'none';\n",
              "\n",
              "      buttonEl.onclick = () => {\n",
              "        google.colab.notebook.generateWithVariable('fd_df');\n",
              "      }\n",
              "      })();\n",
              "    </script>\n",
              "  </div>\n",
              "\n",
              "    </div>\n",
              "  </div>\n"
            ],
            "application/vnd.google.colaboratory.intrinsic+json": {
              "type": "dataframe",
              "variable_name": "fd_df"
            }
          },
          "metadata": {},
          "execution_count": 51
        }
      ]
    },
    {
      "cell_type": "code",
      "source": [
        "# Fill NaNs with median for numerical column\n",
        "fd_df['transaction_velocity'].fillna(fd_df['transaction_velocity'].median(), inplace=True)"
      ],
      "metadata": {
        "id": "FvLSYf82nbxY",
        "outputId": "45a5d478-9015-4a54-818b-ebd585c4b389",
        "colab": {
          "base_uri": "https://localhost:8080/"
        }
      },
      "execution_count": 37,
      "outputs": [
        {
          "output_type": "stream",
          "name": "stderr",
          "text": [
            "/tmp/ipython-input-37-3030624281.py:2: FutureWarning: A value is trying to be set on a copy of a DataFrame or Series through chained assignment using an inplace method.\n",
            "The behavior will change in pandas 3.0. This inplace method will never work because the intermediate object on which we are setting values always behaves as a copy.\n",
            "\n",
            "For example, when doing 'df[col].method(value, inplace=True)', try using 'df.method({col: value}, inplace=True)' or df[col] = df[col].method(value) instead, to perform the operation inplace on the original object.\n",
            "\n",
            "\n",
            "  fd_df['transaction_velocity'].fillna(fd_df['transaction_velocity'].median(), inplace=True)\n"
          ]
        }
      ]
    },
    {
      "cell_type": "code",
      "source": [
        "from google.colab import drive\n",
        "drive.mount('/content/drive')"
      ],
      "metadata": {
        "colab": {
          "base_uri": "https://localhost:8080/"
        },
        "id": "ZpQfC-FJb4Lg",
        "outputId": "05138f48-766a-4319-c44c-19a52622e072"
      },
      "execution_count": 10,
      "outputs": [
        {
          "output_type": "stream",
          "name": "stdout",
          "text": [
            "Mounted at /content/drive\n"
          ]
        }
      ]
    },
    {
      "cell_type": "code",
      "source": [
        "# --- Drop columns not useful or too unique\n",
        "fd_df = fd_df.drop(['user_id', 'device_id', 'ip_address'], axis=1)\n",
        "\n",
        "# --- Convert datetime columns to datetime type\n",
        "fd_df['signup_time'] = pd.to_datetime(fd_df['signup_time'])\n",
        "fd_df['purchase_time'] = pd.to_datetime(fd_df['purchase_time'])\n",
        "\n",
        "# --- Create new numerical time features\n",
        "fd_df['signup_to_purchase'] = (fd_df['purchase_time'] - fd_df['signup_time']).dt.total_seconds()\n",
        "fd_df['signup_hour'] = fd_df['signup_time'].dt.hour\n",
        "fd_df['signup_day'] = fd_df['signup_time'].dt.dayofweek\n",
        "fd_df['purchase_hour'] = fd_df['purchase_time'].dt.hour\n",
        "fd_df['purchase_day'] = fd_df['purchase_time'].dt.dayofweek\n",
        "\n",
        "# --- Drop the original datetime columns\n",
        "fd_df = fd_df.drop(['signup_time', 'purchase_time'], axis=1)\n",
        "\n",
        "# --- Encode categorical columns\n",
        "categorical_columns = ['source', 'browser', 'sex', 'country']\n",
        "for col in categorical_columns:\n",
        "    fd_df[col] = fd_df[col].astype(str)\n",
        "    le = LabelEncoder()\n",
        "    fd_df[col] = le.fit_transform(fd_df[col])\n",
        "\n",
        "# --- Fill missing values, if any\n",
        "fd_df = fd_df.fillna(0)"
      ],
      "metadata": {
        "id": "rAokz6f1pXHz"
      },
      "execution_count": 53,
      "outputs": []
    },
    {
      "cell_type": "markdown",
      "source": [
        "## Separate Features and Target"
      ],
      "metadata": {
        "id": "ixiqj34YgMt6"
      }
    },
    {
      "cell_type": "code",
      "source": [
        "# For Fraud_Data (target column is 'class')\n",
        "X_fd = fd_df.drop('class', axis=1)\n",
        "y_fd = fd_df['class']\n",
        "\n",
        "# For Credit Card (target column is 'Class')\n",
        "X_cc = cc_df.drop('Class', axis=1)\n",
        "y_cc = cc_df['Class']\n"
      ],
      "metadata": {
        "id": "13vDz_2VgKHu"
      },
      "execution_count": 54,
      "outputs": []
    },
    {
      "cell_type": "markdown",
      "source": [
        "## Split the data to train and test datas"
      ],
      "metadata": {
        "id": "NelmnfiogjSv"
      }
    },
    {
      "cell_type": "code",
      "source": [
        "# For Fraud_Data\n",
        "X_fd_train, X_fd_test, y_fd_train, y_fd_test = train_test_split(X_fd, y_fd, test_size=0.2, random_state=42, stratify=y_fd)\n",
        "\n",
        "# For Credit Card Dataset\n",
        "X_cc_train, X_cc_test, y_cc_train, y_cc_test = train_test_split(X_cc, y_cc, test_size=0.2, random_state=42, stratify=y_cc)\n"
      ],
      "metadata": {
        "id": "mDwTQVgQgTxz"
      },
      "execution_count": 55,
      "outputs": []
    },
    {
      "cell_type": "markdown",
      "source": [
        "## Define and Train Models"
      ],
      "metadata": {
        "id": "LCbGFhcfgsFX"
      }
    },
    {
      "cell_type": "code",
      "source": [
        "# Logistic Regression\n",
        "logreg = LogisticRegression(max_iter=1000)\n",
        "\n",
        "# Random Forest\n",
        "rf = RandomForestClassifier(n_estimators=100, random_state=42)\n"
      ],
      "metadata": {
        "id": "l6sppAXDgz71"
      },
      "execution_count": 56,
      "outputs": []
    },
    {
      "cell_type": "code",
      "source": [
        "def train_models(X_train, y_train):\n",
        "    logreg = LogisticRegression(max_iter=1000, class_weight='balanced', random_state=42)\n",
        "    rf = RandomForestClassifier(n_estimators=100, class_weight='balanced', random_state=42)\n",
        "\n",
        "    logreg.fit(X_train, y_train)\n",
        "    rf.fit(X_train, y_train)\n",
        "\n",
        "    return logreg, rf\n"
      ],
      "metadata": {
        "id": "XL7OPhBD0Dpl"
      },
      "execution_count": 63,
      "outputs": []
    },
    {
      "cell_type": "code",
      "source": [
        "# fraud and IP address data\n",
        "logreg_fd, rf_fd = train_models(X_fd_train, y_fd_train)\n",
        "\n",
        "# === CREDIT CARD DATA ===\n",
        "logreg_cc, rf_cc = train_models(X_cc_train, y_cc_train)"
      ],
      "metadata": {
        "id": "4_Ivz23pptV5",
        "outputId": "2ddd3aed-186c-4048-acdd-6f3d5d651c4a",
        "colab": {
          "base_uri": "https://localhost:8080/"
        }
      },
      "execution_count": 64,
      "outputs": [
        {
          "output_type": "stream",
          "name": "stderr",
          "text": [
            "/usr/local/lib/python3.11/dist-packages/sklearn/linear_model/_logistic.py:465: ConvergenceWarning: lbfgs failed to converge (status=1):\n",
            "STOP: TOTAL NO. OF ITERATIONS REACHED LIMIT.\n",
            "\n",
            "Increase the number of iterations (max_iter) or scale the data as shown in:\n",
            "    https://scikit-learn.org/stable/modules/preprocessing.html\n",
            "Please also refer to the documentation for alternative solver options:\n",
            "    https://scikit-learn.org/stable/modules/linear_model.html#logistic-regression\n",
            "  n_iter_i = _check_optimize_result(\n"
          ]
        }
      ]
    },
    {
      "cell_type": "markdown",
      "source": [
        "## Evaluation Function (Custom for Imbalanced Data)"
      ],
      "metadata": {
        "id": "aA3FGjxtuLXy"
      }
    },
    {
      "cell_type": "code",
      "source": [
        "def evaluate_model(model, X_test, y_test, model_name):\n",
        "    y_pred = model.predict(X_test)\n",
        "    y_proba = model.predict_proba(X_test)[:, 1]\n",
        "\n",
        "    # Precision-Recall curve and AUC-PR\n",
        "    precision, recall, _ = precision_recall_curve(y_test, y_proba)\n",
        "    auc_pr = average_precision_score(y_test, y_proba)\n",
        "\n",
        "    f1 = f1_score(y_test, y_pred)\n",
        "    cm = confusion_matrix(y_test, y_pred)\n",
        "\n",
        "    print(f\"--- {model_name} ---\")\n",
        "    print(f\"AUC-PR: {auc_pr:.4f}\")\n",
        "    print(f\"F1-Score: {f1:.4f}\")\n",
        "    print(\"Confusion Matrix:\")\n",
        "    print(cm)\n",
        "    print(\"\\nClassification Report:\")\n",
        "    print(classification_report(y_test, y_pred))\n",
        "\n",
        "    # Plot PR curve\n",
        "    plt.figure(figsize=(6,4))\n",
        "    plt.plot(recall, precision, label=f'AUC-PR = {auc_pr:.4f}')\n",
        "    plt.xlabel('Recall')\n",
        "    plt.ylabel('Precision')\n",
        "    plt.title(f'Precision-Recall Curve: {model_name}')\n",
        "    plt.legend()\n",
        "    plt.show()\n"
      ],
      "metadata": {
        "id": "qWO4gT_AuS9b"
      },
      "execution_count": 65,
      "outputs": []
    },
    {
      "cell_type": "markdown",
      "source": [
        "## Evaluate Each Model"
      ],
      "metadata": {
        "id": "ALQZoVDPugYv"
      }
    },
    {
      "cell_type": "code",
      "source": [
        "# On Fraud_Data and IP_address merged data\n",
        "evaluate_model(logreg_fd, X_fd_test, y_fd_test, \"Logistic Regression (Fraud Data)\")\n",
        "evaluate_model(rf_fd, X_fd_test, y_fd_test, \"Random Forest (Fraud Data)\")\n",
        "\n",
        "\n",
        "# On Credit Card Data\n",
        "evaluate_model(logreg_cc, X_cc_test, y_cc_test, \"Logistic Regression (Credit Card Data)\")\n",
        "evaluate_model(rf_cc, X_cc_test, y_cc_test, \"Random Forest (Credit Card Data)\")\n"
      ],
      "metadata": {
        "id": "tBOiJnIjuka1",
        "outputId": "dcd90136-3890-4109-d324-068f9391c8e3",
        "colab": {
          "base_uri": "https://localhost:8080/",
          "height": 1000
        }
      },
      "execution_count": 68,
      "outputs": [
        {
          "output_type": "stream",
          "name": "stdout",
          "text": [
            "--- Logistic Regression (Fraud Data) ---\n",
            "AUC-PR: 0.3870\n",
            "F1-Score: 0.2734\n",
            "Confusion Matrix:\n",
            "[[17833  9560]\n",
            " [  868  1962]]\n",
            "\n",
            "Classification Report:\n",
            "              precision    recall  f1-score   support\n",
            "\n",
            "           0       0.95      0.65      0.77     27393\n",
            "           1       0.17      0.69      0.27      2830\n",
            "\n",
            "    accuracy                           0.65     30223\n",
            "   macro avg       0.56      0.67      0.52     30223\n",
            "weighted avg       0.88      0.65      0.73     30223\n",
            "\n"
          ]
        },
        {
          "output_type": "display_data",
          "data": {
            "text/plain": [
              "<Figure size 600x400 with 1 Axes>"
            ],
            "image/png": "[encoded data removed]"
          },
          "metadata": {}
        },
        {
          "output_type": "stream",
          "name": "stdout",
          "text": [
            "--- Random Forest (Fraud Data) ---\n",
            "AUC-PR: 0.6169\n",
            "F1-Score: 0.6936\n",
            "Confusion Matrix:\n",
            "[[27392     1]\n",
            " [ 1327  1503]]\n",
            "\n",
            "Classification Report:\n",
            "              precision    recall  f1-score   support\n",
            "\n",
            "           0       0.95      1.00      0.98     27393\n",
            "           1       1.00      0.53      0.69      2830\n",
            "\n",
            "    accuracy                           0.96     30223\n",
            "   macro avg       0.98      0.77      0.83     30223\n",
            "weighted avg       0.96      0.96      0.95     30223\n",
            "\n"
          ]
        },
        {
          "output_type": "display_data",
          "data": {
            "text/plain": [
              "<Figure size 600x400 with 1 Axes>"
            ],
            "image/png": "[encoded data removed]"
          },
          "metadata": {}
        },
        {
          "output_type": "stream",
          "name": "stdout",
          "text": [
            "--- Logistic Regression (Credit Card Data) ---\n",
            "AUC-PR: 0.6564\n",
            "F1-Score: 0.0859\n",
            "Confusion Matrix:\n",
            "[[54896  1755]\n",
            " [   12    83]]\n",
            "\n",
            "Classification Report:\n",
            "              precision    recall  f1-score   support\n",
            "\n",
            "           0       1.00      0.97      0.98     56651\n",
            "           1       0.05      0.87      0.09        95\n",
            "\n",
            "    accuracy                           0.97     56746\n",
            "   macro avg       0.52      0.92      0.54     56746\n",
            "weighted avg       1.00      0.97      0.98     56746\n",
            "\n"
          ]
        },
        {
          "output_type": "display_data",
          "data": {
            "text/plain": [
              "<Figure size 600x400 with 1 Axes>"
            ],
            "image/png": "[encoded data removed]"
          },
          "metadata": {}
        },
        {
          "output_type": "stream",
          "name": "stdout",
          "text": [
            "--- Random Forest (Credit Card Data) ---\n",
            "AUC-PR: 0.7960\n",
            "F1-Score: 0.8171\n",
            "Confusion Matrix:\n",
            "[[56649     2]\n",
            " [   28    67]]\n",
            "\n",
            "Classification Report:\n",
            "              precision    recall  f1-score   support\n",
            "\n",
            "           0       1.00      1.00      1.00     56651\n",
            "           1       0.97      0.71      0.82        95\n",
            "\n",
            "    accuracy                           1.00     56746\n",
            "   macro avg       0.99      0.85      0.91     56746\n",
            "weighted avg       1.00      1.00      1.00     56746\n",
            "\n"
          ]
        },
        {
          "output_type": "display_data",
          "data": {
            "text/plain": [
              "<Figure size 600x400 with 1 Axes>"
            ],
            "image/png": "[encoded data removed]"
          },
          "metadata": {}
        }
      ]
    },
    {
      "cell_type": "markdown",
      "source": [
        "## Interpretation and Best Model Selection"
      ],
      "metadata": {
        "id": "fcBW4Z3J0uz3"
      }
    },
    {
      "cell_type": "code",
      "source": [
        "## Which model is best?\n",
        "      # For both datasets, Random Forest is clearly the best model due to its superior AUC-PR and F1-Score.\n",
        "\n",
        "      # It handles class imbalance better and produces a better tradeoff between precision and recall.\n",
        "\n",
        "      # Logistic Regression may serve as a simple baseline but its performance here is insufficient for deployment.\n",
        "\n"
      ],
      "metadata": {
        "id": "rNjsGnoO3nX8"
      },
      "execution_count": null,
      "outputs": []
    },
    {
      "cell_type": "code",
      "source": [
        "import joblib\n",
        "\n",
        "# Save the Random Forest model\n",
        "joblib.dump(rf, '/content/best_rf_model.joblib')\n"
      ],
      "metadata": {
        "id": "m_WyFo8h4q_N",
        "outputId": "72750cb5-2073-4e48-e128-ae585592c71f",
        "colab": {
          "base_uri": "https://localhost:8080/"
        }
      },
      "execution_count": 69,
      "outputs": [
        {
          "output_type": "execute_result",
          "data": {
            "text/plain": [
              "['/content/best_rf_model.joblib']"
            ]
          },
          "metadata": {},
          "execution_count": 69
        }
      ]
    },
    {
      "cell_type": "code",
      "source": [
        "# Save the test features used for explanation\n",
        "X_fd_test.to_csv('/content/X_fd_test.csv', index=False)"
      ],
      "metadata": {
        "id": "EpS-naKS41eK"
      },
      "execution_count": 70,
      "outputs": []
    },
    {
      "cell_type": "code",
      "source": [
        "from google.colab import files\n",
        "\n",
        "files.download('/content/best_rf_model.joblib')\n",
        "files.download('/content/X_fd_test.csv')\n"
      ],
      "metadata": {
        "id": "cmveZmXT48yx",
        "outputId": "c3177a02-ee4f-4754-ee3e-96f6826a64c7",
        "colab": {
          "base_uri": "https://localhost:8080/",
          "height": 17
        }
      },
      "execution_count": 71,
      "outputs": [
        {
          "output_type": "display_data",
          "data": {
            "text/plain": [
              "<IPython.core.display.Javascript object>"
            ],
            "application/javascript": [
              "\n",
              "    async function download(id, filename, size) {\n",
              "      if (!google.colab.kernel.accessAllowed) {\n",
              "        return;\n",
              "      }\n",
              "      const div = document.createElement('div');\n",
              "      const label = document.createElement('label');\n",
              "      label.textContent = `Downloading \"${filename}\": `;\n",
              "      div.appendChild(label);\n",
              "      const progress = document.createElement('progress');\n",
              "      progress.max = size;\n",
              "      div.appendChild(progress);\n",
              "      document.body.appendChild(div);\n",
              "\n",
              "      const buffers = [];\n",
              "      let downloaded = 0;\n",
              "\n",
              "      const channel = await google.colab.kernel.comms.open(id);\n",
              "      // Send a message to notify the kernel that we're ready.\n",
              "      channel.send({})\n",
              "\n",
              "      for await (const message of channel.messages) {\n",
              "        // Send a message to notify the kernel that we're ready.\n",
              "        channel.send({})\n",
              "        if (message.buffers) {\n",
              "          for (const buffer of message.buffers) {\n",
              "            buffers.push(buffer);\n",
              "            downloaded += buffer.byteLength;\n",
              "            progress.value = downloaded;\n",
              "          }\n",
              "        }\n",
              "      }\n",
              "      const blob = new Blob(buffers, {type: 'application/binary'});\n",
              "      const a = document.createElement('a');\n",
              "      a.href = window.URL.createObjectURL(blob);\n",
              "      a.download = filename;\n",
              "      div.appendChild(a);\n",
              "      a.click();\n",
              "      div.remove();\n",
              "    }\n",
              "  "
            ]
          },
          "metadata": {}
        },
        {
          "output_type": "display_data",
          "data": {
            "text/plain": [
              "<IPython.core.display.Javascript object>"
            ],
            "application/javascript": [
              "download(\"download_fa282deb-a438-49f1-a678-3bf0d137dfb7\", \"best_rf_model.joblib\", 2452921)"
            ]
          },
          "metadata": {}
        },
        {
          "output_type": "display_data",
          "data": {
            "text/plain": [
              "<IPython.core.display.Javascript object>"
            ],
            "application/javascript": [
              "\n",
              "    async function download(id, filename, size) {\n",
              "      if (!google.colab.kernel.accessAllowed) {\n",
              "        return;\n",
              "      }\n",
              "      const div = document.createElement('div');\n",
              "      const label = document.createElement('label');\n",
              "      label.textContent = `Downloading \"${filename}\": `;\n",
              "      div.appendChild(label);\n",
              "      const progress = document.createElement('progress');\n",
              "      progress.max = size;\n",
              "      div.appendChild(progress);\n",
              "      document.body.appendChild(div);\n",
              "\n",
              "      const buffers = [];\n",
              "      let downloaded = 0;\n",
              "\n",
              "      const channel = await google.colab.kernel.comms.open(id);\n",
              "      // Send a message to notify the kernel that we're ready.\n",
              "      channel.send({})\n",
              "\n",
              "      for await (const message of channel.messages) {\n",
              "        // Send a message to notify the kernel that we're ready.\n",
              "        channel.send({})\n",
              "        if (message.buffers) {\n",
              "          for (const buffer of message.buffers) {\n",
              "            buffers.push(buffer);\n",
              "            downloaded += buffer.byteLength;\n",
              "            progress.value = downloaded;\n",
              "          }\n",
              "        }\n",
              "      }\n",
              "      const blob = new Blob(buffers, {type: 'application/binary'});\n",
              "      const a = document.createElement('a');\n",
              "      a.href = window.URL.createObjectURL(blob);\n",
              "      a.download = filename;\n",
              "      div.appendChild(a);\n",
              "      a.click();\n",
              "      div.remove();\n",
              "    }\n",
              "  "
            ]
          },
          "metadata": {}
        },
        {
          "output_type": "display_data",
          "data": {
            "text/plain": [
              "<IPython.core.display.Javascript object>"
            ],
            "application/javascript": [
              "download(\"download_f4731ece-eccc-469c-a6a0-f2dbe65e66d8\", \"X_fd_test.csv\", 1879718)"
            ]
          },
          "metadata": {}
        }
      ]
    }
  ]
}